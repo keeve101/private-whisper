{
 "cells": [
  {
   "cell_type": "code",
   "execution_count": 1,
   "id": "1b42b477",
   "metadata": {},
   "outputs": [
    {
     "ename": "RuntimeError",
     "evalue": "Model ./.cache/whisper/stream-tiny.en.pt not found; available models = ['tiny.en', 'tiny', 'base.en', 'base', 'small.en', 'small', 'medium.en', 'medium', 'large-v1', 'large-v2', 'large-v3', 'large', 'large-v3-turbo', 'turbo']",
     "output_type": "error",
     "traceback": [
      "\u001b[1;31m---------------------------------------------------------------------------\u001b[0m",
      "\u001b[1;31mRuntimeError\u001b[0m                              Traceback (most recent call last)",
      "Cell \u001b[1;32mIn[1], line 3\u001b[0m\n\u001b[0;32m      1\u001b[0m \u001b[38;5;28;01mimport\u001b[39;00m\u001b[38;5;250m \u001b[39m\u001b[38;5;21;01mwhisper\u001b[39;00m\n\u001b[1;32m----> 3\u001b[0m m \u001b[38;5;241m=\u001b[39m \u001b[43mwhisper\u001b[49m\u001b[38;5;241;43m.\u001b[39;49m\u001b[43mload_streaming_model\u001b[49m\u001b[43m(\u001b[49m\u001b[38;5;124;43m\"\u001b[39;49m\u001b[38;5;124;43m./.cache/whisper/stream-tiny.en.pt\u001b[39;49m\u001b[38;5;124;43m\"\u001b[39;49m\u001b[43m,\u001b[49m\u001b[43m \u001b[49m\u001b[43mstrict\u001b[49m\u001b[38;5;241;43m=\u001b[39;49m\u001b[38;5;28;43;01mFalse\u001b[39;49;00m\u001b[43m)\u001b[49m\n\u001b[0;32m      4\u001b[0m \u001b[38;5;28mprint\u001b[39m(m\u001b[38;5;241m.\u001b[39mtranscribe_stream(\u001b[38;5;124m'\u001b[39m\u001b[38;5;124m./jfk.wav\u001b[39m\u001b[38;5;124m'\u001b[39m, chunk_size\u001b[38;5;241m=\u001b[39m\u001b[38;5;241m32000\u001b[39m))\n",
      "File \u001b[1;32md:\\Repositories\\whisper-streaming\\whisper\\whisper\\__init__.py:205\u001b[0m, in \u001b[0;36mload_streaming_model\u001b[1;34m(name, device, download_root, strict, in_memory)\u001b[0m\n\u001b[0;32m    203\u001b[0m     alignment_heads \u001b[38;5;241m=\u001b[39m \u001b[38;5;28;01mNone\u001b[39;00m\n\u001b[0;32m    204\u001b[0m \u001b[38;5;28;01melse\u001b[39;00m:\n\u001b[1;32m--> 205\u001b[0m     \u001b[38;5;28;01mraise\u001b[39;00m \u001b[38;5;167;01mRuntimeError\u001b[39;00m(\n\u001b[0;32m    206\u001b[0m         \u001b[38;5;124mf\u001b[39m\u001b[38;5;124m\"\u001b[39m\u001b[38;5;124mModel \u001b[39m\u001b[38;5;132;01m{\u001b[39;00mname\u001b[38;5;132;01m}\u001b[39;00m\u001b[38;5;124m not found; available models = \u001b[39m\u001b[38;5;132;01m{\u001b[39;00mavailable_models()\u001b[38;5;132;01m}\u001b[39;00m\u001b[38;5;124m\"\u001b[39m\n\u001b[0;32m    207\u001b[0m     )\n\u001b[0;32m    209\u001b[0m \u001b[38;5;28;01mwith\u001b[39;00m (\n\u001b[0;32m    210\u001b[0m     io\u001b[38;5;241m.\u001b[39mBytesIO(checkpoint_file) \u001b[38;5;28;01mif\u001b[39;00m in_memory \u001b[38;5;28;01melse\u001b[39;00m \u001b[38;5;28mopen\u001b[39m(checkpoint_file, \u001b[38;5;124m\"\u001b[39m\u001b[38;5;124mrb\u001b[39m\u001b[38;5;124m\"\u001b[39m)\n\u001b[0;32m    211\u001b[0m ) \u001b[38;5;28;01mas\u001b[39;00m fp:\n\u001b[0;32m    212\u001b[0m     checkpoint \u001b[38;5;241m=\u001b[39m torch\u001b[38;5;241m.\u001b[39mload(fp, map_location\u001b[38;5;241m=\u001b[39mdevice)\n",
      "\u001b[1;31mRuntimeError\u001b[0m: Model ./.cache/whisper/stream-tiny.en.pt not found; available models = ['tiny.en', 'tiny', 'base.en', 'base', 'small.en', 'small', 'medium.en', 'medium', 'large-v1', 'large-v2', 'large-v3', 'large', 'large-v3-turbo', 'turbo']"
     ]
    }
   ],
   "source": [
    "import whisper\n",
    "\n",
    "m = whisper.load_streaming_model(\"./.cache/whisper/stream-tiny.en.pt\", strict=False)\n",
    "print(m.transcribe_stream('./jfk.wav', chunk_size=32000))"
   ]
  },
  {
   "cell_type": "code",
   "execution_count": 5,
   "id": "94cfce2a",
   "metadata": {},
   "outputs": [],
   "source": [
    "whisper_tiny = whisper.load_model(\"tiny.en\")"
   ]
  },
  {
   "cell_type": "code",
   "execution_count": 8,
   "id": "c0a5ef4d",
   "metadata": {},
   "outputs": [
    {
     "name": "stdout",
     "output_type": "stream",
     "text": [
      "ModelDimensions(n_mels=80, n_audio_ctx=1500, n_audio_state=384, n_audio_head=6, n_audio_layer=4, n_vocab=51864, n_text_ctx=448, n_text_state=384, n_text_head=6, n_text_layer=4)\n"
     ]
    }
   ],
   "source": [
    "print(whisper_tiny.dims)"
   ]
  },
  {
   "cell_type": "code",
   "execution_count": 10,
   "id": "8839d040",
   "metadata": {},
   "outputs": [],
   "source": [
    "from whisper.streaming import StreamingConfig\n",
    "\n",
    "model_dims = whisper_tiny.dims\n",
    "streaming_config = whisper.streaming.StreamingConfig()\n",
    "model = whisper.WhisperStreaming(model_dims, streaming_config)"
   ]
  },
  {
   "cell_type": "code",
   "execution_count": 11,
   "id": "b8a73bf4",
   "metadata": {},
   "outputs": [
    {
     "name": "stdout",
     "output_type": "stream",
     "text": [
      "WhisperStreaming(\n",
      "  (encoder): AudioEncoder(\n",
      "    (conv1): Conv1d(80, 384, kernel_size=(3,), stride=(1,), padding=(1,))\n",
      "    (conv2): Conv1d(384, 384, kernel_size=(3,), stride=(2,), padding=(1,))\n",
      "    (blocks): ModuleList(\n",
      "      (0-3): 4 x ResidualAttentionBlock(\n",
      "        (attn): MultiHeadAttention(\n",
      "          (query): Linear(in_features=384, out_features=384, bias=True)\n",
      "          (key): Linear(in_features=384, out_features=384, bias=False)\n",
      "          (value): Linear(in_features=384, out_features=384, bias=True)\n",
      "          (out): Linear(in_features=384, out_features=384, bias=True)\n",
      "        )\n",
      "        (attn_ln): LayerNorm((384,), eps=1e-05, elementwise_affine=True)\n",
      "        (mlp): Sequential(\n",
      "          (0): Linear(in_features=384, out_features=1536, bias=True)\n",
      "          (1): GELU(approximate='none')\n",
      "          (2): Linear(in_features=1536, out_features=384, bias=True)\n",
      "        )\n",
      "        (mlp_ln): LayerNorm((384,), eps=1e-05, elementwise_affine=True)\n",
      "      )\n",
      "    )\n",
      "    (ln_post): LayerNorm((384,), eps=1e-05, elementwise_affine=True)\n",
      "  )\n",
      "  (decoder): MonotonicTextDecoder(\n",
      "    (token_embedding): Embedding(51864, 384)\n",
      "    (blocks): ModuleList(\n",
      "      (0-3): 4 x MonotonicResidualAttentionBlock(\n",
      "        (attn): MultiHeadAttention(\n",
      "          (query): Linear(in_features=384, out_features=384, bias=True)\n",
      "          (key): Linear(in_features=384, out_features=384, bias=False)\n",
      "          (value): Linear(in_features=384, out_features=384, bias=True)\n",
      "          (out): Linear(in_features=384, out_features=384, bias=True)\n",
      "        )\n",
      "        (attn_ln): LayerNorm((384,), eps=1e-05, elementwise_affine=True)\n",
      "        (cross_attn): MultiHeadAttention(\n",
      "          (query): Linear(in_features=384, out_features=384, bias=True)\n",
      "          (key): Linear(in_features=384, out_features=384, bias=False)\n",
      "          (value): Linear(in_features=384, out_features=384, bias=True)\n",
      "          (out): Linear(in_features=384, out_features=384, bias=True)\n",
      "        )\n",
      "        (cross_attn_ln): LayerNorm((384,), eps=1e-05, elementwise_affine=True)\n",
      "        (mlp): Sequential(\n",
      "          (0): Linear(in_features=384, out_features=1536, bias=True)\n",
      "          (1): GELU(approximate='none')\n",
      "          (2): Linear(in_features=1536, out_features=384, bias=True)\n",
      "        )\n",
      "        (mlp_ln): LayerNorm((384,), eps=1e-05, elementwise_affine=True)\n",
      "        (p_choose_layer): PChooseLayer(\n",
      "          (q_energy_proj): EnergyProjection(\n",
      "            (layers): ModuleList(\n",
      "              (0): Linear(in_features=384, out_features=384, bias=True)\n",
      "              (1): ReLU()\n",
      "              (2): Linear(in_features=384, out_features=384, bias=True)\n",
      "              (3): ReLU()\n",
      "              (4): Linear(in_features=384, out_features=384, bias=True)\n",
      "              (5): ReLU()\n",
      "              (6): Linear(in_features=384, out_features=384, bias=True)\n",
      "              (7): ReLU()\n",
      "            )\n",
      "          )\n",
      "          (k_energy_proj): EnergyProjection(\n",
      "            (layers): ModuleList(\n",
      "              (0): Linear(in_features=384, out_features=384, bias=True)\n",
      "              (1): ReLU()\n",
      "              (2): Linear(in_features=384, out_features=384, bias=True)\n",
      "              (3): ReLU()\n",
      "              (4): Linear(in_features=384, out_features=384, bias=True)\n",
      "              (5): ReLU()\n",
      "              (6): Linear(in_features=384, out_features=384, bias=True)\n",
      "              (7): ReLU()\n",
      "            )\n",
      "          )\n",
      "          (keys_pooling): AvgPool1d(kernel_size=(2,), stride=(2,), padding=(0,))\n",
      "        )\n",
      "      )\n",
      "    )\n",
      "    (ln): LayerNorm((384,), eps=1e-05, elementwise_affine=True)\n",
      "  )\n",
      ")\n"
     ]
    }
   ],
   "source": [
    "print(model)"
   ]
  },
  {
   "cell_type": "code",
   "execution_count": 13,
   "id": "8808b4c0",
   "metadata": {},
   "outputs": [
    {
     "data": {
      "text/plain": [
       "_IncompatibleKeys(missing_keys=['decoder.blocks.0.p_choose_layer.energy_bias', 'decoder.blocks.0.p_choose_layer.q_energy_proj.layers.0.weight', 'decoder.blocks.0.p_choose_layer.q_energy_proj.layers.0.bias', 'decoder.blocks.0.p_choose_layer.q_energy_proj.layers.2.weight', 'decoder.blocks.0.p_choose_layer.q_energy_proj.layers.2.bias', 'decoder.blocks.0.p_choose_layer.q_energy_proj.layers.4.weight', 'decoder.blocks.0.p_choose_layer.q_energy_proj.layers.4.bias', 'decoder.blocks.0.p_choose_layer.q_energy_proj.layers.6.weight', 'decoder.blocks.0.p_choose_layer.q_energy_proj.layers.6.bias', 'decoder.blocks.0.p_choose_layer.k_energy_proj.layers.0.weight', 'decoder.blocks.0.p_choose_layer.k_energy_proj.layers.0.bias', 'decoder.blocks.0.p_choose_layer.k_energy_proj.layers.2.weight', 'decoder.blocks.0.p_choose_layer.k_energy_proj.layers.2.bias', 'decoder.blocks.0.p_choose_layer.k_energy_proj.layers.4.weight', 'decoder.blocks.0.p_choose_layer.k_energy_proj.layers.4.bias', 'decoder.blocks.0.p_choose_layer.k_energy_proj.layers.6.weight', 'decoder.blocks.0.p_choose_layer.k_energy_proj.layers.6.bias', 'decoder.blocks.1.p_choose_layer.energy_bias', 'decoder.blocks.1.p_choose_layer.q_energy_proj.layers.0.weight', 'decoder.blocks.1.p_choose_layer.q_energy_proj.layers.0.bias', 'decoder.blocks.1.p_choose_layer.q_energy_proj.layers.2.weight', 'decoder.blocks.1.p_choose_layer.q_energy_proj.layers.2.bias', 'decoder.blocks.1.p_choose_layer.q_energy_proj.layers.4.weight', 'decoder.blocks.1.p_choose_layer.q_energy_proj.layers.4.bias', 'decoder.blocks.1.p_choose_layer.q_energy_proj.layers.6.weight', 'decoder.blocks.1.p_choose_layer.q_energy_proj.layers.6.bias', 'decoder.blocks.1.p_choose_layer.k_energy_proj.layers.0.weight', 'decoder.blocks.1.p_choose_layer.k_energy_proj.layers.0.bias', 'decoder.blocks.1.p_choose_layer.k_energy_proj.layers.2.weight', 'decoder.blocks.1.p_choose_layer.k_energy_proj.layers.2.bias', 'decoder.blocks.1.p_choose_layer.k_energy_proj.layers.4.weight', 'decoder.blocks.1.p_choose_layer.k_energy_proj.layers.4.bias', 'decoder.blocks.1.p_choose_layer.k_energy_proj.layers.6.weight', 'decoder.blocks.1.p_choose_layer.k_energy_proj.layers.6.bias', 'decoder.blocks.2.p_choose_layer.energy_bias', 'decoder.blocks.2.p_choose_layer.q_energy_proj.layers.0.weight', 'decoder.blocks.2.p_choose_layer.q_energy_proj.layers.0.bias', 'decoder.blocks.2.p_choose_layer.q_energy_proj.layers.2.weight', 'decoder.blocks.2.p_choose_layer.q_energy_proj.layers.2.bias', 'decoder.blocks.2.p_choose_layer.q_energy_proj.layers.4.weight', 'decoder.blocks.2.p_choose_layer.q_energy_proj.layers.4.bias', 'decoder.blocks.2.p_choose_layer.q_energy_proj.layers.6.weight', 'decoder.blocks.2.p_choose_layer.q_energy_proj.layers.6.bias', 'decoder.blocks.2.p_choose_layer.k_energy_proj.layers.0.weight', 'decoder.blocks.2.p_choose_layer.k_energy_proj.layers.0.bias', 'decoder.blocks.2.p_choose_layer.k_energy_proj.layers.2.weight', 'decoder.blocks.2.p_choose_layer.k_energy_proj.layers.2.bias', 'decoder.blocks.2.p_choose_layer.k_energy_proj.layers.4.weight', 'decoder.blocks.2.p_choose_layer.k_energy_proj.layers.4.bias', 'decoder.blocks.2.p_choose_layer.k_energy_proj.layers.6.weight', 'decoder.blocks.2.p_choose_layer.k_energy_proj.layers.6.bias', 'decoder.blocks.3.p_choose_layer.energy_bias', 'decoder.blocks.3.p_choose_layer.q_energy_proj.layers.0.weight', 'decoder.blocks.3.p_choose_layer.q_energy_proj.layers.0.bias', 'decoder.blocks.3.p_choose_layer.q_energy_proj.layers.2.weight', 'decoder.blocks.3.p_choose_layer.q_energy_proj.layers.2.bias', 'decoder.blocks.3.p_choose_layer.q_energy_proj.layers.4.weight', 'decoder.blocks.3.p_choose_layer.q_energy_proj.layers.4.bias', 'decoder.blocks.3.p_choose_layer.q_energy_proj.layers.6.weight', 'decoder.blocks.3.p_choose_layer.q_energy_proj.layers.6.bias', 'decoder.blocks.3.p_choose_layer.k_energy_proj.layers.0.weight', 'decoder.blocks.3.p_choose_layer.k_energy_proj.layers.0.bias', 'decoder.blocks.3.p_choose_layer.k_energy_proj.layers.2.weight', 'decoder.blocks.3.p_choose_layer.k_energy_proj.layers.2.bias', 'decoder.blocks.3.p_choose_layer.k_energy_proj.layers.4.weight', 'decoder.blocks.3.p_choose_layer.k_energy_proj.layers.4.bias', 'decoder.blocks.3.p_choose_layer.k_energy_proj.layers.6.weight', 'decoder.blocks.3.p_choose_layer.k_energy_proj.layers.6.bias'], unexpected_keys=[])"
      ]
     },
     "execution_count": 13,
     "metadata": {},
     "output_type": "execute_result"
    }
   ],
   "source": [
    "model.load_state_dict(whisper_tiny.state_dict(), strict=False)"
   ]
  },
  {
   "cell_type": "code",
   "execution_count": null,
   "id": "80c3efb9",
   "metadata": {},
   "outputs": [],
   "source": []
  }
 ],
 "metadata": {
  "kernelspec": {
   "display_name": "capstone",
   "language": "python",
   "name": "python3"
  },
  "language_info": {
   "codemirror_mode": {
    "name": "ipython",
    "version": 3
   },
   "file_extension": ".py",
   "mimetype": "text/x-python",
   "name": "python",
   "nbconvert_exporter": "python",
   "pygments_lexer": "ipython3",
   "version": "3.10.16"
  }
 },
 "nbformat": 4,
 "nbformat_minor": 5
}
